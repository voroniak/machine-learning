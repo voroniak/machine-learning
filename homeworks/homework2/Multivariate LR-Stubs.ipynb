{
 "cells": [
  {
   "cell_type": "code",
   "execution_count": 1,
   "metadata": {},
   "outputs": [],
   "source": [
    "import numpy as np\n",
    "import pandas as pd\n",
    "import matplotlib.pyplot as plt\n",
    "%matplotlib inline"
   ]
  },
  {
   "cell_type": "code",
   "execution_count": 2,
   "metadata": {},
   "outputs": [],
   "source": [
    "def load_datasets(filename, data_columns, target_column):\n",
    "    df = pd.read_csv(filename)\n",
    "    X, y = df[data_columns], df[target_column]\n",
    "    return X, y"
   ]
  },
  {
   "cell_type": "code",
   "execution_count": 3,
   "metadata": {},
   "outputs": [],
   "source": [
    "def plot_data(A, b, test = False):\n",
    "    positive_indices = np.where(b == 1)[0]\n",
    "    negative_indices = np.where(b == 0)[0]\n",
    "    \n",
    "    plt.scatter(A.iloc[positive_indices, 0], A.iloc[positive_indices, 1], marker='x', c= 'yellow' if test else 'green')\n",
    "    plt.scatter(A.iloc[negative_indices, 0], A.iloc[negative_indices, 1], marker='+', c= 'blue' if test else 'red')\n",
    "    #plt.show()"
   ]
  },
  {
   "cell_type": "code",
   "execution_count": 4,
   "metadata": {},
   "outputs": [],
   "source": [
    "def decision_boundary(X, y, mean, std, theta):\n",
    "    X =(X-mean)/std\n",
    "    positive_indices = np.where(y == 1)[0]\n",
    "    negative_indices = np.where(y == 0)[0]\n",
    "    \n",
    "    plt.scatter(X.iloc[positive_indices, 0], X.iloc[positive_indices, 1], marker='x', c= 'green')\n",
    "    plt.scatter(X.iloc[negative_indices, 0], X.iloc[negative_indices, 1], marker='+', c= 'red')\n",
    "    \n",
    "    #plt.show()"
   ]
  },
  {
   "cell_type": "code",
   "execution_count": 5,
   "metadata": {},
   "outputs": [],
   "source": [
    "def normalize(X):\n",
    "    mean = np.mean(X,axis=0);\n",
    "    std = np.std(X,axis=0);\n",
    "    X_new = (X-mean)/std;\n",
    "    return X_new, mean, std"
   ]
  },
  {
   "cell_type": "code",
   "execution_count": 6,
   "metadata": {},
   "outputs": [],
   "source": [
    "def prepare_X(X):\n",
    "    m = X.shape[0]\n",
    "    ones = np.ones((m, 1))\n",
    "    X_new = np.column_stack((ones, X))\n",
    "    return X_new"
   ]
  },
  {
   "cell_type": "code",
   "execution_count": 7,
   "metadata": {},
   "outputs": [],
   "source": [
    "def sigmoid(z):\n",
    "    #z - вектор стовпець\n",
    "    g = 1/(1+np.exp(z*-1));\n",
    "    return g"
   ]
  },
  {
   "cell_type": "code",
   "execution_count": 8,
   "metadata": {},
   "outputs": [],
   "source": [
    "def h(X, theta):\n",
    "    # X - матриця\n",
    "    # theta - вектор\n",
    "    z = X.dot(theta)\n",
    "    return sigmoid(z)"
   ]
  },
  {
   "cell_type": "code",
   "execution_count": 9,
   "metadata": {},
   "outputs": [],
   "source": [
    "def cost_function(X, y, theta):\n",
    "    m = X.shape[0]\n",
    "    if m ==0:\n",
    "        return None\n",
    "    temp =h(X,theta);\n",
    "    J = sum(-1*y*np.log(temp) + (1-y)*np.log(1-temp) )/m;\n",
    "    return J"
   ]
  },
  {
   "cell_type": "code",
   "execution_count": 10,
   "metadata": {},
   "outputs": [],
   "source": [
    "def derivative_theta(X, y, theta):\n",
    "    m = X.shape[0];\n",
    "    if m == 0:\n",
    "        return None\n",
    "\n",
    "    d_theta = X_new.T.dot(h(X_new,theta) -y_new)/m;\n",
    "    \n",
    "    return d_theta"
   ]
  },
  {
   "cell_type": "code",
   "execution_count": 11,
   "metadata": {},
   "outputs": [],
   "source": [
    "def gradient_descent(X, y, theta, alpha, epsilon, num_iters, print_J = True):\n",
    "    m = X.shape[0]\n",
    "    J_history = []\n",
    "    \n",
    "    J = cost_function(X,y,theta);\n",
    "    \n",
    "    if print_J == True:\n",
    "        print(J)\n",
    "    J_history.append(J)\n",
    "    for i in range(num_iters):\n",
    "        theta -= alpha* derivative_theta(X,y,theta);\n",
    "        \n",
    "        J = cost_function(X,y,theta);\n",
    "        \n",
    "        J_history.append(J)\n",
    "        \n",
    "        if i % 1000 == 0 and print_J == True:\n",
    "            print(J)\n",
    "        \n",
    "        if abs(J-J_history[-2]) < epsilon:\n",
    "            break\n",
    "            \n",
    "    return theta, J_history"
   ]
  },
  {
   "cell_type": "code",
   "execution_count": 12,
   "metadata": {},
   "outputs": [],
   "source": [
    "def predict(X, mean, std, theta):\n",
    "    X_new = (X-mean.values)/std.values;\n",
    "    X_new = prepare_X(X_new);\n",
    "    predictions = h(X_new,theta)\n",
    "    return predictions"
   ]
  },
  {
   "cell_type": "code",
   "execution_count": 13,
   "metadata": {},
   "outputs": [
    {
     "name": "stdout",
     "output_type": "stream",
     "text": [
      "Training set: X=(100, 2), y=(100,)\n"
     ]
    }
   ],
   "source": [
    "data_columns = [\"exam1\", \"exam2\"]\n",
    "target_column = \"submitted\"\n",
    "X, y = load_datasets('sats.csv', data_columns, target_column)\n",
    "print('Training set: X={}, y={}'.format(X.shape, y.shape))"
   ]
  },
  {
   "cell_type": "code",
   "execution_count": 14,
   "metadata": {},
   "outputs": [
    {
     "name": "stdout",
     "output_type": "stream",
     "text": [
      "Training set: X=(118, 2), y=(118,)\n"
     ]
    }
   ],
   "source": [
    "# Спробувати на цьому датасеті після написання всіх функцій і відлагодження на попередньому\n",
    "data_columns = [\"test1\", \"test2\"]\n",
    "target_column = \"passed\"\n",
    "X, y = load_datasets('tests.csv', data_columns, target_column)\n",
    "print('Training set: X={}, y={}'.format(X.shape, y.shape))"
   ]
  },
  {
   "cell_type": "code",
   "execution_count": 15,
   "metadata": {},
   "outputs": [
    {
     "data": {
      "image/png": "[encoded data removed]",
      "text/plain": [
       "<Figure size 432x288 with 1 Axes>"
      ]
     },
     "metadata": {
      "needs_background": "light"
     },
     "output_type": "display_data"
    }
   ],
   "source": [
    "plot_data(X, y)"
   ]
  },
  {
   "cell_type": "code",
   "execution_count": 16,
   "metadata": {},
   "outputs": [],
   "source": [
    "X_new, mean, std = normalize(X)"
   ]
  },
  {
   "cell_type": "code",
   "execution_count": 17,
   "metadata": {},
   "outputs": [],
   "source": [
    "X_new = prepare_X(X_new)\n",
    "y_new = y.values.reshape((X.shape[0], 1))"
   ]
  },
  {
   "cell_type": "code",
   "execution_count": 18,
   "metadata": {},
   "outputs": [],
   "source": [
    "theta = np.array([0,0,0])"
   ]
  },
  {
   "cell_type": "code",
   "execution_count": 19,
   "metadata": {},
   "outputs": [
    {
     "data": {
      "text/plain": [
       "array([ 0.00587413,  0.00587413,  0.00587413,  0.00587413,  0.00587413,\n",
       "        0.00587413,  0.00587413,  0.00587413,  0.00587413,  0.00587413,\n",
       "        0.00587413,  0.00587413,  0.00587413,  0.00587413,  0.00587413,\n",
       "        0.00587413,  0.00587413,  0.00587413,  0.00587413,  0.00587413,\n",
       "        0.00587413,  0.00587413,  0.00587413,  0.00587413,  0.00587413,\n",
       "        0.00587413,  0.00587413,  0.00587413,  0.00587413,  0.00587413,\n",
       "        0.00587413,  0.00587413,  0.00587413,  0.00587413,  0.00587413,\n",
       "        0.00587413,  0.00587413,  0.00587413,  0.00587413,  0.00587413,\n",
       "        0.00587413,  0.00587413,  0.00587413,  0.00587413,  0.00587413,\n",
       "        0.00587413,  0.00587413,  0.00587413,  0.00587413,  0.00587413,\n",
       "        0.00587413,  0.00587413,  0.00587413,  0.00587413,  0.00587413,\n",
       "        0.00587413,  0.00587413,  0.00587413, -0.00587413, -0.00587413,\n",
       "       -0.00587413, -0.00587413, -0.00587413, -0.00587413, -0.00587413,\n",
       "       -0.00587413, -0.00587413, -0.00587413, -0.00587413, -0.00587413,\n",
       "       -0.00587413, -0.00587413, -0.00587413, -0.00587413, -0.00587413,\n",
       "       -0.00587413, -0.00587413, -0.00587413, -0.00587413, -0.00587413,\n",
       "       -0.00587413, -0.00587413, -0.00587413, -0.00587413, -0.00587413,\n",
       "       -0.00587413, -0.00587413, -0.00587413, -0.00587413, -0.00587413,\n",
       "       -0.00587413, -0.00587413, -0.00587413, -0.00587413, -0.00587413,\n",
       "       -0.00587413, -0.00587413, -0.00587413, -0.00587413, -0.00587413,\n",
       "       -0.00587413, -0.00587413, -0.00587413, -0.00587413, -0.00587413,\n",
       "       -0.00587413, -0.00587413, -0.00587413, -0.00587413, -0.00587413,\n",
       "       -0.00587413, -0.00587413, -0.00587413, -0.00587413, -0.00587413,\n",
       "       -0.00587413, -0.00587413, -0.00587413])"
      ]
     },
     "execution_count": 19,
     "metadata": {},
     "output_type": "execute_result"
    }
   ],
   "source": [
    "cost_function(X_new, y_new.T, theta)"
   ]
  },
  {
   "cell_type": "code",
   "execution_count": 20,
   "metadata": {
    "scrolled": true
   },
   "outputs": [
    {
     "name": "stdout",
     "output_type": "stream",
     "text": [
      "[-0.03402965 -0.14950957 -0.00897109] 2370\n"
     ]
    }
   ],
   "source": [
    "new_theta, Js = gradient_descent(X_new, y, theta, 0.01, 1e-7, 1000000, False)\n",
    "print(new_theta, len(Js))"
   ]
  },
  {
   "cell_type": "code",
   "execution_count": 21,
   "metadata": {},
   "outputs": [
    {
     "data": {
      "text/plain": [
       "array([-0.01268303,  0.00920819, -0.03090814, -0.05695   , -0.07818452,\n",
       "       -0.08214784, -0.06449371, -0.05251747, -0.00557952,  0.01088036,\n",
       "        0.0487229 ,  0.07084459,  0.08976545,  0.10504704,  0.08218278,\n",
       "        0.04909049,  0.02522043, -0.00457719, -0.02474839, -0.07149614,\n",
       "       -0.09099064, -0.09676369, -0.09438576, -0.07064316, -0.02554372,\n",
       "        0.02056517,  0.06115172,  0.09245206, -0.02085259, -0.04234212,\n",
       "       -0.03640206, -0.02211953, -0.02519198, -0.04326224, -0.05685585,\n",
       "       -0.04974428, -0.04225175, -0.01586884,  0.00347546,  0.02656222,\n",
       "        0.03771526,  0.06679761,  0.09152158,  0.06502785,  0.0915057 ,\n",
       "        0.08463151,  0.10874685,  0.03379597,  0.06811376,  0.05003986,\n",
       "        0.02118623, -0.00209375, -0.01382347, -0.03295257, -0.03453699,\n",
       "       -0.06900869, -0.03792705, -0.02794997,  0.03125113,  0.0360117 ,\n",
       "        0.04592776,  0.0784381 ,  0.0947004 ,  0.09182375,  0.11533463,\n",
       "        0.13845707,  0.12206398,  0.14126793,  0.13716063,  0.12504747,\n",
       "        0.12918477,  0.1208448 ,  0.11604219,  0.11051154,  0.07851008,\n",
       "        0.06847294,  0.06216416,  0.04337738,  0.03216059,  0.00182682,\n",
       "        0.01292135, -0.02860003, -0.07010506, -0.06615878, -0.11934564,\n",
       "       -0.10976606, -0.11632994, -0.10418177, -0.05953142, -0.05420731,\n",
       "       -0.07350738, -0.0813214 ,  0.01773799,  0.01197867, -0.01176309,\n",
       "       -0.00726718,  0.04823901,  0.0624862 ,  0.09956798,  0.12541421,\n",
       "        0.10263355,  0.15789978, -0.01667799, -0.04592844, -0.03051722,\n",
       "       -0.08135783, -0.07641232, -0.04876107, -0.09763747, -0.10675457,\n",
       "       -0.09893761, -0.11520571, -0.12748083, -0.1089392 , -0.0691967 ,\n",
       "        0.00310041,  0.09067566, -0.09013515])"
      ]
     },
     "execution_count": 21,
     "metadata": {},
     "output_type": "execute_result"
    }
   ],
   "source": [
    "cost_function(X_new, y_new, new_theta)"
   ]
  },
  {
   "cell_type": "code",
   "execution_count": 22,
   "metadata": {},
   "outputs": [
    {
     "data": {
      "image/png": "[encoded data removed]",
      "text/plain": [
       "<Figure size 432x288 with 1 Axes>"
      ]
     },
     "metadata": {
      "needs_background": "light"
     },
     "output_type": "display_data"
    }
   ],
   "source": [
    "decision_boundary(X, y, mean, std, new_theta)"
   ]
  },
  {
   "cell_type": "code",
   "execution_count": 23,
   "metadata": {},
   "outputs": [
    {
     "ename": "NameError",
     "evalue": "name 'new_thet' is not defined",
     "output_type": "error",
     "traceback": [
      "\u001b[0;31m---------------------------------------------------------------------------\u001b[0m",
      "\u001b[0;31mNameError\u001b[0m                                 Traceback (most recent call last)",
      "\u001b[0;32m<ipython-input-23-cdf9f9ea26ae>\u001b[0m in \u001b[0;36m<module>\u001b[0;34m\u001b[0m\n\u001b[0;32m----> 1\u001b[0;31m \u001b[0mnew_thet\u001b[0m\u001b[0;34m\u001b[0m\u001b[0;34m\u001b[0m\u001b[0m\n\u001b[0m",
      "\u001b[0;31mNameError\u001b[0m: name 'new_thet' is not defined"
     ]
    }
   ],
   "source": [
    "new_theta"
   ]
  },
  {
   "cell_type": "code",
   "execution_count": null,
   "metadata": {},
   "outputs": [],
   "source": [
    "T = np.array([[40, 40], [60, 65]])\n",
    "print(predict(T, mean, std, new_theta))"
   ]
  }
 ],
 "metadata": {
  "anaconda-cloud": {},
  "kernelspec": {
   "display_name": "Python 3",
   "language": "python",
   "name": "python3"
  },
  "language_info": {
   "codemirror_mode": {
    "name": "ipython",
    "version": 3
   },
   "file_extension": ".py",
   "mimetype": "text/x-python",
   "name": "python",
   "nbconvert_exporter": "python",
   "pygments_lexer": "ipython3",
   "version": "3.8.5"
  }
 },
 "nbformat": 4,
 "nbformat_minor": 1
}
